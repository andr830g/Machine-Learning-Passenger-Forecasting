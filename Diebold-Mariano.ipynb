{
 "cells": [
  {
   "cell_type": "code",
   "execution_count": 9,
   "metadata": {},
   "outputs": [],
   "source": [
    "import torch\n",
    "import torch.nn as nn\n",
    "from dieboldmariano import dm_test\n",
    "import utils.DataSplitter\n",
    "import utils.Pytorch\n",
    "from utils.tools import plotFitAndPredictions, plotLossCurves\n",
    "from utils.metrics import *"
   ]
  },
  {
   "cell_type": "code",
   "execution_count": 10,
   "metadata": {},
   "outputs": [],
   "source": [
    "# Change accordingly\n",
    "aggLevel = 60\n",
    "line = \"1A\"\n",
    "diff = False\n",
    "lags = [20, 40, 60, 80, 100, 120, 140]  # [i+1 for i in range(20)] + [40, 60, 80, 100, 120, 140]  # <-- To use all columns\n",
    "dropWeather = True\n",
    "dropCalendar = False\n",
    "\n",
    "if aggLevel == 60:\n",
    "    multiplier = 1\n",
    "elif aggLevel == 30:\n",
    "    multiplier = 2\n",
    "elif aggLevel == 15:\n",
    "    multiplier = 4\n",
    "lags = [lag*multiplier for lag in lags]\n",
    "\n",
    "X_train, y_train, X_val, y_val, y_train_true, y_val_true, lagColName, multiplier, train_orig, val_orig = utils.Pytorch.setupData(aggLevel,\n",
    "                                                                                                                                 multiplier,\n",
    "                                                                                                                                 line,\n",
    "                                                                                                                                 diff,\n",
    "                                                                                                                                 lags,\n",
    "                                                                                                                                 dropWeather,\n",
    "                                                                                                                                 dropCalendar)"
   ]
  },
  {
   "cell_type": "code",
   "execution_count": 30,
   "metadata": {},
   "outputs": [],
   "source": [
    "SNaive_preds = np.load(\"predictions/SNaive_best_predictions.npy\").tolist()\n",
    "Lasso_preds = np.load(\"predictions/Lasso_best_predictions.npy\").tolist()\n",
    "RNN_preds = np.load(\"predictions/RNN_best_predictions.npy\").tolist()\n",
    "LSTM_preds = np.load(\"predictions/LSTM_best_predictions.npy\").tolist()"
   ]
  },
  {
   "cell_type": "code",
   "execution_count": 32,
   "metadata": {},
   "outputs": [
    {
     "data": {
      "text/plain": [
       "(5.4236357201492424, 6.612288610755604e-08)"
      ]
     },
     "execution_count": 32,
     "metadata": {},
     "output_type": "execute_result"
    }
   ],
   "source": [
    "dm_test(y_val.tolist(), SNaive_preds, Lasso_preds)"
   ]
  }
 ],
 "metadata": {
  "kernelspec": {
   "display_name": "Python 3",
   "language": "python",
   "name": "python3"
  },
  "language_info": {
   "codemirror_mode": {
    "name": "ipython",
    "version": 3
   },
   "file_extension": ".py",
   "mimetype": "text/x-python",
   "name": "python",
   "nbconvert_exporter": "python",
   "pygments_lexer": "ipython3",
   "version": "3.12.2"
  }
 },
 "nbformat": 4,
 "nbformat_minor": 2
}
